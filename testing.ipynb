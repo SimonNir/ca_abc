{
 "cells": [
  {
   "cell_type": "code",
   "execution_count": 2,
   "id": "da11fba8",
   "metadata": {},
   "outputs": [],
   "source": [
    "# --- Now, a concrete implementation using ASE ---\n",
    "import numpy as np\n",
    "import matplotlib.pyplot as plt\n",
    "from ase import Atoms\n",
    "from ase.calculators.lj import LennardJones\n",
    "calc = LennardJones(sigma=1, epsilon=1, rc=3, smooth=False)\n",
    "\n",
    "def lj2(r):\n",
    "    atoms = Atoms('X2', [[0,0,0],[r,0,0]])\n",
    "    atoms.calc = calc\n",
    "    return atoms.get_total_energy(), atoms.get_forces()"
   ]
  },
  {
   "cell_type": "code",
   "execution_count": 3,
   "id": "517f5a05",
   "metadata": {},
   "outputs": [
    {
     "data": {
      "text/plain": [
       "array([ 0.01094383,  0.        ,  0.        , -0.01094383,  0.        ,\n",
       "        0.        ])"
      ]
     },
     "execution_count": 3,
     "metadata": {},
     "output_type": "execute_result"
    }
   ],
   "source": [
    "lj2(3)[1].flatten()"
   ]
  },
  {
   "cell_type": "code",
   "execution_count": 4,
   "id": "2f0eff4d",
   "metadata": {},
   "outputs": [
    {
     "data": {
      "text/plain": [
       "[<matplotlib.lines.Line2D at 0x7f964eec8820>,\n",
       " <matplotlib.lines.Line2D at 0x7f964eec8970>]"
      ]
     },
     "execution_count": 4,
     "metadata": {},
     "output_type": "execute_result"
    },
    {
     "data": {
      "image/png": "[encoded data removed]",
      "text/plain": [
       "<Figure size 640x480 with 1 Axes>"
      ]
     },
     "metadata": {},
     "output_type": "display_data"
    }
   ],
   "source": [
    "x = np.linspace(1,2)\n",
    "y = np.array([np.dot(lj2(val)[1], [1,0,0]) for val in x])\n",
    "plt.plot(x,y)"
   ]
  },
  {
   "cell_type": "code",
   "execution_count": 5,
   "id": "0b596313",
   "metadata": {},
   "outputs": [
    {
     "name": "stdout",
     "output_type": "stream",
     "text": [
      "      Step     Time          Energy          fmax\n",
      "FIRE:    0 12:49:18       -0.240766        0.872763\n",
      "FIRE:    1 12:49:18       -0.256526        0.933731\n",
      "FIRE:    2 12:49:18       -0.292728        1.073304\n",
      "FIRE:    3 12:49:18       -0.361858        1.335519\n",
      "FIRE:    4 12:49:18       -0.493506        1.801028\n",
      "FIRE:    5 12:49:18       -0.750017        2.385177\n",
      "FIRE:    6 12:49:18       -0.956391        2.570480\n",
      "FIRE:    7 12:49:18       -0.981511        1.383130\n",
      "FIRE:    8 12:49:18       -0.994519        0.014738\n",
      "FIRE:    9 12:49:18       -0.984803        0.933712\n",
      "FIRE:   10 12:49:18       -0.985865        0.887501\n",
      "FIRE:   11 12:49:18       -0.987781        0.794213\n",
      "FIRE:   12 12:49:18       -0.990148        0.652691\n",
      "FIRE:   13 12:49:18       -0.992431        0.462680\n",
      "FIRE:   14 12:49:18       -0.994047        0.226715\n",
      "FIRE:   15 12:49:18       -0.994501        0.047454\n",
      "FIRE:   16 12:49:18       -0.994502        0.046593\n",
      "FIRE:   17 12:49:18       -0.994503        0.044889\n",
      "FIRE:   18 12:49:18       -0.994505        0.042372\n",
      "FIRE:   19 12:49:18       -0.994507        0.039091\n",
      "FIRE:   20 12:49:18       -0.994510        0.035107\n",
      "FIRE:   21 12:49:18       -0.994512        0.030496\n",
      "FIRE:   22 12:49:18       -0.994515        0.025341\n",
      "FIRE:   23 12:49:18       -0.994517        0.019131\n",
      "FIRE:   24 12:49:18       -0.994519        0.011811\n",
      "FIRE:   25 12:49:18       -0.994520        0.003406\n",
      "FIRE:   26 12:49:18       -0.994520        0.005944\n",
      "FIRE:   27 12:49:18       -0.994520        0.005887\n",
      "FIRE:   28 12:49:18       -0.994520        0.005774\n",
      "FIRE:   29 12:49:18       -0.994520        0.005606\n",
      "FIRE:   30 12:49:18       -0.994520        0.005384\n",
      "FIRE:   31 12:49:18       -0.994520        0.005111\n",
      "FIRE:   32 12:49:18       -0.994520        0.004789\n",
      "FIRE:   33 12:49:18       -0.994520        0.004421\n",
      "FIRE:   34 12:49:18       -0.994520        0.003965\n",
      "FIRE:   35 12:49:18       -0.994520        0.003408\n",
      "FIRE:   36 12:49:18       -0.994520        0.002738\n",
      "FIRE:   37 12:49:18       -0.994521        0.001944\n",
      "FIRE:   38 12:49:18       -0.994521        0.001022\n",
      "FIRE:   39 12:49:18       -0.994521        0.000023\n",
      "FIRE:   40 12:49:18       -0.994521        0.000023\n",
      "FIRE:   41 12:49:18       -0.994521        0.000022\n",
      "FIRE:   42 12:49:18       -0.994521        0.000022\n",
      "FIRE:   43 12:49:18       -0.994521        0.000021\n",
      "FIRE:   44 12:49:18       -0.994521        0.000020\n",
      "FIRE:   45 12:49:18       -0.994521        0.000019\n",
      "FIRE:   46 12:49:18       -0.994521        0.000018\n",
      "FIRE:   47 12:49:18       -0.994521        0.000017\n",
      "FIRE:   48 12:49:18       -0.994521        0.000015\n",
      "FIRE:   49 12:49:18       -0.994521        0.000013\n",
      "FIRE:   50 12:49:18       -0.994521        0.000010\n",
      "FIRE:   51 12:49:18       -0.994521        0.000007\n",
      "({'x': array([ 0.42559677, -0.35265356, -0.09738092, -0.42559677,  0.35265356,\n",
      "        0.09738092]), 'nsteps': 35, 'converged': np.True_, 'used_dummy_atoms': False, 'used_dummy_dimensions': 0}, {'trajectory': [array([ 0.59658712, -0.4943378 , -0.13650527, -0.59658712,  0.4943378 ,\n",
      "        0.13650527]), array([ 0.58996873, -0.48885373, -0.13499091, -0.58996873,  0.48885373,\n",
      "        0.13499091]), array([ 0.57626959, -0.4775025 , -0.13185641, -0.57626959,  0.4775025 ,\n",
      "        0.13185641]), array([ 0.5544313 , -0.45940708, -0.12685958, -0.5544313 ,  0.45940708,\n",
      "        0.12685958]), array([ 0.5224654 , -0.43291983, -0.11954545, -0.5224654 ,  0.43291983,\n",
      "        0.11954545]), array([ 0.47684182, -0.39511569, -0.10910631, -0.47684182,  0.39511569,\n",
      "        0.10910631]), array([ 0.41313078, -0.34232412, -0.09452857, -0.41313078,  0.34232412,\n",
      "        0.09452857]), array([ 0.41800395, -0.34636207, -0.0956436 , -0.41800395,  0.34636207,\n",
      "        0.0956436 ]), array([ 0.42549927, -0.35257277, -0.09735861, -0.42549927,  0.35257277,\n",
      "        0.09735861]), array([ 0.43302254, -0.35880662, -0.09908001, -0.43302254,  0.35880662,\n",
      "        0.09908001]), array([ 0.43258   , -0.35843993, -0.09897875, -0.43258   ,  0.35843993,\n",
      "        0.09897875]), array([ 0.43171683, -0.35772469, -0.09878125, -0.43171683,  0.35772469,\n",
      "        0.09878125]), array([ 0.43047724, -0.35669756, -0.09849762, -0.43047724,  0.35669756,\n",
      "        0.09849762]), array([ 0.4289283 , -0.35541409, -0.0981432 , -0.4289283 ,  0.35541409,\n",
      "        0.0981432 ]), array([ 0.42716007, -0.35394892, -0.09773861, -0.42716007,  0.35394892,\n",
      "        0.09773861]), array([ 0.42528439, -0.35239471, -0.09730944, -0.42528439,  0.35239471,\n",
      "        0.09730944]), array([ 0.42529001, -0.35239937, -0.09731073, -0.42529001,  0.35239937,\n",
      "        0.09731073]), array([ 0.42530116, -0.35240861, -0.09731328, -0.42530116,  0.35240861,\n",
      "        0.09731328]), array([ 0.42531762, -0.35242225, -0.09731704, -0.42531762,  0.35242225,\n",
      "        0.09731704]), array([ 0.4253391 , -0.35244005, -0.09732196, -0.4253391 ,  0.35244005,\n",
      "        0.09732196]), array([ 0.42536522, -0.35246169, -0.09732793, -0.42536522,  0.35246169,\n",
      "        0.09732793]), array([ 0.42539549, -0.35248677, -0.09733486, -0.42539549,  0.35248677,\n",
      "        0.09733486]), array([ 0.42542938, -0.35251485, -0.09734261, -0.42542938,  0.35251485,\n",
      "        0.09734261]), array([ 0.42547029, -0.35254875, -0.09735198, -0.42547029,  0.35254875,\n",
      "        0.09735198]), array([ 0.42551861, -0.35258879, -0.09736303, -0.42551861,  0.35258879,\n",
      "        0.09736303]), array([ 0.42557424, -0.35263488, -0.09737576, -0.42557424,  0.35263488,\n",
      "        0.09737576]), array([ 0.4256363 , -0.35268631, -0.09738996, -0.4256363 ,  0.35268631,\n",
      "        0.09738996]), array([ 0.42563076, -0.35268172, -0.09738869, -0.42563076,  0.35268172,\n",
      "        0.09738869]), array([ 0.42562618, -0.35267792, -0.09738764, -0.42562618,  0.35267792,\n",
      "        0.09738764]), array([ 0.42561945, -0.35267235, -0.0973861 , -0.42561945,  0.35267235,\n",
      "        0.0973861 ]), array([ 0.425615  , -0.35266866, -0.09738509, -0.425615  ,  0.35266866,\n",
      "        0.09738509]), array([ 0.42560973, -0.35266429, -0.09738388, -0.42560973,  0.35266429,\n",
      "        0.09738388]), array([ 0.42560361, -0.35265922, -0.09738248, -0.42560361,  0.35265922,\n",
      "        0.09738248]), array([ 0.42559667, -0.35265347, -0.09738089, -0.42559667,  0.35265347,\n",
      "        0.09738089]), array([ 0.42559667, -0.35265347, -0.09738089, -0.42559667,  0.35265347,\n",
      "        0.09738089])], 'unbiased_energies': [np.float64(-0.24076597405956607), np.float64(-0.2565264693872162), np.float64(-0.2927276300468648), np.float64(-0.3618580415021192), np.float64(-0.49350621781657167), np.float64(-0.7500169024323298), np.float64(-0.9563913540777524), np.float64(-0.9815112262703596), np.float64(-0.9945186638570884), np.float64(-0.9848025682549068), np.float64(-0.9858654782578938), np.float64(-0.9877805026910639), np.float64(-0.9901481477962117), np.float64(-0.9924314954354102), np.float64(-0.9940471545241786), np.float64(-0.9945010572624624), np.float64(-0.994501754587704), np.float64(-0.9945030988980983), np.float64(-0.9945049932072927), np.float64(-0.9945073009892604), np.float64(-0.9945098561585552), np.float64(-0.994512475170966), np.float64(-0.9945149703378469), np.float64(-0.9945173693939902), np.float64(-0.9945193407966895), np.float64(-0.9945204568411825), np.float64(-0.9945202487601029), np.float64(-0.9945203294602681), np.float64(-0.994520387084673), np.float64(-0.9945204565485687), np.float64(-0.9945204926398057), np.float64(-0.9945205251815781), np.float64(-0.9945205491124858), np.float64(-0.9945205582512324), np.float64(-0.9945205582512324)], 'biased_energies': [np.float64(-0.24076597405956607), np.float64(-0.2565264693872162), np.float64(-0.2927276300468648), np.float64(-0.3618580415021192), np.float64(-0.49350621781657167), np.float64(-0.7500169024323298), np.float64(-0.9563913540777524), np.float64(-0.9815112262703596), np.float64(-0.9945186638570884), np.float64(-0.9848025682549068), np.float64(-0.9858654782578938), np.float64(-0.9877805026910639), np.float64(-0.9901481477962117), np.float64(-0.9924314954354102), np.float64(-0.9940471545241786), np.float64(-0.9945010572624624), np.float64(-0.994501754587704), np.float64(-0.9945030988980983), np.float64(-0.9945049932072927), np.float64(-0.9945073009892604), np.float64(-0.9945098561585552), np.float64(-0.994512475170966), np.float64(-0.9945149703378469), np.float64(-0.9945173693939902), np.float64(-0.9945193407966895), np.float64(-0.9945204568411825), np.float64(-0.9945202487601029), np.float64(-0.9945203294602681), np.float64(-0.994520387084673), np.float64(-0.9945204565485687), np.float64(-0.9945204926398057), np.float64(-0.9945205251815781), np.float64(-0.9945205491124858), np.float64(-0.9945205582512324), np.float64(-0.9945205582512324)], 'unbiased_forces': [array([-0.66183966,  0.54840668,  0.15143572,  0.66183966, -0.54840668,\n",
      "       -0.15143572]), array([-0.70807366,  0.58671661,  0.16201453,  0.70807366, -0.58671661,\n",
      "       -0.16201453]), array([-0.81391583,  0.67441844,  0.18623231,  0.81391583, -0.67441844,\n",
      "       -0.18623231]), array([-1.0127606 ,  0.83918312,  0.23173003,  1.0127606 , -0.83918312,\n",
      "       -0.23173003]), array([-1.36576898,  1.13168924,  0.31250198,  1.36576898, -1.13168924,\n",
      "       -0.31250198]), array([-1.8087447 ,  1.49874316,  0.41385938,  1.8087447 , -1.49874316,\n",
      "       -0.41385938]), array([ 1.94926512, -1.61517973, -0.4460119 , -1.94926512,  1.61517973,\n",
      "        0.4460119 ]), array([ 1.04886541, -0.86909991, -0.23999119, -1.04886541,  0.86909991,\n",
      "        0.23999119]), array([ 0.01117632, -0.00926081, -0.00255726, -0.01117632,  0.00926081,\n",
      "        0.00255726]), array([-0.70805932,  0.58670472,  0.16201125,  0.70805932, -0.58670472,\n",
      "       -0.16201125]), array([-0.67301603,  0.55766752,  0.15399299,  0.67301603, -0.55766752,\n",
      "       -0.15399299]), array([-0.60227359,  0.49904965,  0.13780639,  0.60227359, -0.49904965,\n",
      "       -0.13780639]), array([-0.49495311,  0.41012288,  0.11325036,  0.49495311, -0.41012288,\n",
      "       -0.11325036]), array([-0.35086317,  0.29072858,  0.0802811 ,  0.35086317, -0.29072858,\n",
      "       -0.0802811 ]), array([-0.17192389,  0.14245778,  0.03933795,  0.17192389, -0.14245778,\n",
      "       -0.03933795]), array([ 0.03598547, -0.02981791, -0.00823385, -0.03598547,  0.02981791,\n",
      "        0.00823385]), array([ 0.03533295, -0.02927722, -0.00808454, -0.03533295,  0.02927722,\n",
      "        0.00808454]), array([ 0.03404028, -0.0282061 , -0.00778877, -0.03404028,  0.0282061 ,\n",
      "        0.00778877]), array([ 0.03213191, -0.02662481, -0.00735211, -0.03213191,  0.02662481,\n",
      "        0.00735211]), array([ 0.02964386, -0.02456319, -0.00678282, -0.02964386,  0.02456319,\n",
      "        0.00678282]), array([ 0.02662291, -0.02206   , -0.0060916 , -0.02662291,  0.02206   ,\n",
      "        0.0060916 ]), array([ 0.02312562, -0.01916211, -0.00529138, -0.02312562,  0.01916211,\n",
      "        0.00529138]), array([ 0.01921709, -0.01592346, -0.00439707, -0.01921709,  0.01592346,\n",
      "        0.00439707]), array([ 0.01450735, -0.01202093, -0.00331943, -0.01450735,  0.01202093,\n",
      "        0.00331943]), array([ 0.00895679, -0.00742168, -0.0020494 , -0.00895679,  0.00742168,\n",
      "        0.0020494 ]), array([ 0.00258272, -0.00214007, -0.00059095, -0.00258272,  0.00214007,\n",
      "        0.00059095]), array([-0.00450725,  0.00373475,  0.00103131,  0.00450725, -0.00373475,\n",
      "       -0.00103131]), array([-0.00387568,  0.00321142,  0.00088679,  0.00387568, -0.00321142,\n",
      "       -0.00088679]), array([-0.00335252,  0.00277793,  0.00076709,  0.00335252, -0.00277793,\n",
      "       -0.00076709]), array([-0.00258452,  0.00214156,  0.00059137,  0.00258452, -0.00214156,\n",
      "       -0.00059137]), array([-0.00207607,  0.00172025,  0.00047503,  0.00207607, -0.00172025,\n",
      "       -0.00047503]), array([-0.00147407,  0.00122143,  0.00033728,  0.00147407, -0.00122143,\n",
      "       -0.00033728]), array([-0.00077512,  0.00064227,  0.00017736,  0.00077512, -0.00064227,\n",
      "       -0.00017736]), array([ 1.72527952e-05, -1.42958311e-05, -3.94761688e-06, -1.72527952e-05,\n",
      "        1.42958311e-05,  3.94761688e-06]), array([ 1.72527952e-05, -1.42958311e-05, -3.94761688e-06, -1.72527952e-05,\n",
      "        1.42958311e-05,  3.94761688e-06])], 'biased_forces': [array([-0.66183966,  0.54840668,  0.15143572,  0.66183966, -0.54840668,\n",
      "       -0.15143572]), array([-0.70807366,  0.58671661,  0.16201453,  0.70807366, -0.58671661,\n",
      "       -0.16201453]), array([-0.81391583,  0.67441844,  0.18623231,  0.81391583, -0.67441844,\n",
      "       -0.18623231]), array([-1.0127606 ,  0.83918312,  0.23173003,  1.0127606 , -0.83918312,\n",
      "       -0.23173003]), array([-1.36576898,  1.13168924,  0.31250198,  1.36576898, -1.13168924,\n",
      "       -0.31250198]), array([-1.8087447 ,  1.49874316,  0.41385938,  1.8087447 , -1.49874316,\n",
      "       -0.41385938]), array([ 1.94926512, -1.61517973, -0.4460119 , -1.94926512,  1.61517973,\n",
      "        0.4460119 ]), array([ 1.04886541, -0.86909991, -0.23999119, -1.04886541,  0.86909991,\n",
      "        0.23999119]), array([ 0.01117632, -0.00926081, -0.00255726, -0.01117632,  0.00926081,\n",
      "        0.00255726]), array([-0.70805932,  0.58670472,  0.16201125,  0.70805932, -0.58670472,\n",
      "       -0.16201125]), array([-0.67301603,  0.55766752,  0.15399299,  0.67301603, -0.55766752,\n",
      "       -0.15399299]), array([-0.60227359,  0.49904965,  0.13780639,  0.60227359, -0.49904965,\n",
      "       -0.13780639]), array([-0.49495311,  0.41012288,  0.11325036,  0.49495311, -0.41012288,\n",
      "       -0.11325036]), array([-0.35086317,  0.29072858,  0.0802811 ,  0.35086317, -0.29072858,\n",
      "       -0.0802811 ]), array([-0.17192389,  0.14245778,  0.03933795,  0.17192389, -0.14245778,\n",
      "       -0.03933795]), array([ 0.03598547, -0.02981791, -0.00823385, -0.03598547,  0.02981791,\n",
      "        0.00823385]), array([ 0.03533295, -0.02927722, -0.00808454, -0.03533295,  0.02927722,\n",
      "        0.00808454]), array([ 0.03404028, -0.0282061 , -0.00778877, -0.03404028,  0.0282061 ,\n",
      "        0.00778877]), array([ 0.03213191, -0.02662481, -0.00735211, -0.03213191,  0.02662481,\n",
      "        0.00735211]), array([ 0.02964386, -0.02456319, -0.00678282, -0.02964386,  0.02456319,\n",
      "        0.00678282]), array([ 0.02662291, -0.02206   , -0.0060916 , -0.02662291,  0.02206   ,\n",
      "        0.0060916 ]), array([ 0.02312562, -0.01916211, -0.00529138, -0.02312562,  0.01916211,\n",
      "        0.00529138]), array([ 0.01921709, -0.01592346, -0.00439707, -0.01921709,  0.01592346,\n",
      "        0.00439707]), array([ 0.01450735, -0.01202093, -0.00331943, -0.01450735,  0.01202093,\n",
      "        0.00331943]), array([ 0.00895679, -0.00742168, -0.0020494 , -0.00895679,  0.00742168,\n",
      "        0.0020494 ]), array([ 0.00258272, -0.00214007, -0.00059095, -0.00258272,  0.00214007,\n",
      "        0.00059095]), array([-0.00450725,  0.00373475,  0.00103131,  0.00450725, -0.00373475,\n",
      "       -0.00103131]), array([-0.00387568,  0.00321142,  0.00088679,  0.00387568, -0.00321142,\n",
      "       -0.00088679]), array([-0.00335252,  0.00277793,  0.00076709,  0.00335252, -0.00277793,\n",
      "       -0.00076709]), array([-0.00258452,  0.00214156,  0.00059137,  0.00258452, -0.00214156,\n",
      "       -0.00059137]), array([-0.00207607,  0.00172025,  0.00047503,  0.00207607, -0.00172025,\n",
      "       -0.00047503]), array([-0.00147407,  0.00122143,  0.00033728,  0.00147407, -0.00122143,\n",
      "       -0.00033728]), array([-0.00077512,  0.00064227,  0.00017736,  0.00077512, -0.00064227,\n",
      "       -0.00017736]), array([ 1.72527952e-05, -1.42958311e-05, -3.94761688e-06, -1.72527952e-05,\n",
      "        1.42958311e-05,  3.94761688e-06]), array([ 1.72527952e-05, -1.42958311e-05, -3.94761688e-06, -1.72527952e-05,\n",
      "        1.42958311e-05,  3.94761688e-06])]})\n"
     ]
    }
   ],
   "source": [
    "# Test with LJ cluster\n",
    "from optimizers import ScipyOptimizer, ASEOptimizer\n",
    "from potentials import LennardJonesCluster\n",
    "from ca_abc import CurvatureAdaptiveABC\n",
    "import numpy as np\n",
    "\n",
    "np.random.seed(42)\n",
    "\n",
    "mypot = LennardJonesCluster(2)\n",
    "myabc = CurvatureAdaptiveABC(mypot)\n",
    "\n",
    "# Add more robust configuration\n",
    "myopt = ScipyOptimizer(myabc, method=\"L-BFGS-B\")\n",
    "myopt=ASEOptimizer(myabc, 'FIRE')\n",
    "\n",
    "# Ensure proper starting position\n",
    "x0 = mypot.default_starting_position().astype(np.float64)\n",
    "\n",
    "# Run with safeguards\n",
    "result = myopt.descend(x0, max_steps=100, convergence_threshold=1e-5)\n",
    "print(result)"
   ]
  },
  {
   "cell_type": "code",
   "execution_count": 6,
   "id": "f4b51bb3",
   "metadata": {},
   "outputs": [
    {
     "name": "stdout",
     "output_type": "stream",
     "text": [
      "remove_rotation_translation=True is incompatible with potentials without 3N cartesian dimensions; setting to False.\n"
     ]
    },
    {
     "data": {
      "text/plain": [
       "({'x': array([0.62349941, 0.02803776]),\n",
       "  'converged': True,\n",
       "  'nit': 7,\n",
       "  'message': 'Optimization terminated successfully.',\n",
       "  'hess_inv': array([[ 1.83919501e-03, -9.14731203e-05],\n",
       "         [-9.14731203e-05,  3.40357931e-04]])},\n",
       " {'trajectory': [array([0., 0.]),\n",
       "   array([0.23007699, 0.20781567]),\n",
       "   array([0.59616943, 0.03292627]),\n",
       "   array([0.61459307, 0.02528581]),\n",
       "   array([0.62263251, 0.02840701]),\n",
       "   array([0.62354634, 0.02801991]),\n",
       "   array([0.6234993 , 0.02803778])],\n",
       "  'unbiased_energies': [np.float64(-48.40127417318389),\n",
       "   np.float64(-74.76537570406889),\n",
       "   np.float64(-107.95138334722715),\n",
       "   np.float64(-108.12988163425165),\n",
       "   np.float64(-108.1663619034848),\n",
       "   np.float64(-108.16672315956717),\n",
       "   np.float64(-108.16672411684873)],\n",
       "  'biased_energies': [np.float64(-48.40127417318389),\n",
       "   np.float64(-74.76537570406889),\n",
       "   np.float64(-107.95138334722715),\n",
       "   np.float64(-108.12988163425165),\n",
       "   np.float64(-108.1663619034848),\n",
       "   np.float64(-108.16672315956717),\n",
       "   np.float64(-108.16672411684873)],\n",
       "  'unbiased_forces': [array([120.44528524, 108.79148986]),\n",
       "   array([ 45.31416751, -48.46760412]),\n",
       "   array([13.76279637, -9.83144044]),\n",
       "   array([5.28640038, 9.57364932]),\n",
       "   array([ 0.42190807, -0.97017786]),\n",
       "   array([-0.02321839,  0.04621162]),\n",
       "   array([ 5.65387565e-05, -5.11069408e-05])],\n",
       "  'biased_forces': [array([120.44528524, 108.79148986]),\n",
       "   array([ 45.31416751, -48.46760412]),\n",
       "   array([13.76279637, -9.83144044]),\n",
       "   array([5.28640038, 9.57364932]),\n",
       "   array([ 0.42190807, -0.97017786]),\n",
       "   array([-0.02321839,  0.04621162]),\n",
       "   array([ 5.65387565e-05, -5.11069408e-05])]})"
      ]
     },
     "execution_count": 6,
     "metadata": {},
     "output_type": "execute_result"
    }
   ],
   "source": [
    "from ca_abc import CurvatureAdaptiveABC\n",
    "from potentials import *\n",
    "from optimizers import *\n",
    "mypot = Complex1D()\n",
    "mypot = StandardMullerBrown2D()\n",
    "myabc = CurvatureAdaptiveABC(mypot)\n",
    "\n",
    "myopt = ScipyOptimizer(myabc, method=\"BFGS\")\n",
    "\n",
    "\n",
    "result = myopt.descend([0, 0], 20, 1e-5)\n",
    "result"
   ]
  },
  {
   "cell_type": "code",
   "execution_count": 7,
   "id": "7f7e2d79",
   "metadata": {},
   "outputs": [
    {
     "data": {
      "text/plain": [
       "  message: Optimization terminated successfully.\n",
       "  success: True\n",
       "   status: 0\n",
       "      fun: -108.16672411685238\n",
       "        x: [ 6.235e-01  2.804e-02]\n",
       "      nit: 7\n",
       "      jac: [ 1.225e-07  3.413e-07]\n",
       " hess_inv: [[ 1.839e-03 -9.147e-05]\n",
       "            [-9.147e-05  3.404e-04]]\n",
       "     nfev: 13\n",
       "     njev: 13"
      ]
     },
     "execution_count": 7,
     "metadata": {},
     "output_type": "execute_result"
    }
   ],
   "source": [
    "from potentials import *\n",
    "from optimizers import *\n",
    "\n",
    "from scipy.optimize import minimize\n",
    "import numpy as np\n",
    "\n",
    "mypot = StandardMullerBrown2D().potential\n",
    "mygrad = StandardMullerBrown2D().gradient\n",
    "\n",
    "options = {'gtol':1e-5}\n",
    "\n",
    "minimize(fun=mypot, x0=(0,0), \n",
    "         jac=lambda x: mygrad(x), \n",
    "         method=\"BFGS\", options=options)"
   ]
  },
  {
   "cell_type": "code",
   "execution_count": 8,
   "id": "85616941",
   "metadata": {},
   "outputs": [
    {
     "name": "stdout",
     "output_type": "stream",
     "text": [
      "remove_rotation_translation=True is incompatible with potentials without 3N cartesian dimensions; setting to False.\n"
     ]
    },
    {
     "data": {
      "text/plain": [
       "({'x': array([0.62349941, 0.02803776]),\n",
       "  'converged': True,\n",
       "  'nit': 7,\n",
       "  'message': 'Optimization terminated successfully.',\n",
       "  'hess_inv': array([[ 1.83919501e-03, -9.14731203e-05],\n",
       "         [-9.14731203e-05,  3.40357931e-04]])},\n",
       " {'trajectory': [array([0., 0.]),\n",
       "   array([0.23007699, 0.20781567]),\n",
       "   array([0.59616943, 0.03292627]),\n",
       "   array([0.61459307, 0.02528581]),\n",
       "   array([0.62263251, 0.02840701]),\n",
       "   array([0.62354634, 0.02801991]),\n",
       "   array([0.6234993 , 0.02803778])],\n",
       "  'unbiased_energies': [np.float64(-48.40127417318389),\n",
       "   np.float64(-74.76537570406889),\n",
       "   np.float64(-107.95138334722715),\n",
       "   np.float64(-108.12988163425165),\n",
       "   np.float64(-108.1663619034848),\n",
       "   np.float64(-108.16672315956717),\n",
       "   np.float64(-108.16672411684873)],\n",
       "  'biased_energies': [np.float64(-48.40127417318389),\n",
       "   np.float64(-74.76537570406889),\n",
       "   np.float64(-107.95138334722715),\n",
       "   np.float64(-108.12988163425165),\n",
       "   np.float64(-108.1663619034848),\n",
       "   np.float64(-108.16672315956717),\n",
       "   np.float64(-108.16672411684873)],\n",
       "  'unbiased_forces': [array([120.44528524, 108.79148986]),\n",
       "   array([ 45.31416751, -48.46760412]),\n",
       "   array([13.76279637, -9.83144044]),\n",
       "   array([5.28640038, 9.57364932]),\n",
       "   array([ 0.42190807, -0.97017786]),\n",
       "   array([-0.02321839,  0.04621162]),\n",
       "   array([ 5.65387565e-05, -5.11069408e-05])],\n",
       "  'biased_forces': [array([120.44528524, 108.79148986]),\n",
       "   array([ 45.31416751, -48.46760412]),\n",
       "   array([13.76279637, -9.83144044]),\n",
       "   array([5.28640038, 9.57364932]),\n",
       "   array([ 0.42190807, -0.97017786]),\n",
       "   array([-0.02321839,  0.04621162]),\n",
       "   array([ 5.65387565e-05, -5.11069408e-05])]})"
      ]
     },
     "execution_count": 8,
     "metadata": {},
     "output_type": "execute_result"
    }
   ],
   "source": [
    "from ca_abc import CurvatureAdaptiveABC\n",
    "myabc = CurvatureAdaptiveABC(StandardMullerBrown2D())\n",
    "myopt = ScipyOptimizer(myabc, method=\"BFGS\")\n",
    "\n",
    "myopt.descend(np.array([0,0]), convergence_threshold=1e-5)"
   ]
  },
  {
   "cell_type": "code",
   "execution_count": 9,
   "id": "7e9d44e8",
   "metadata": {},
   "outputs": [
    {
     "name": "stdout",
     "output_type": "stream",
     "text": [
      "remove_rotation_translation=True is incompatible with potentials without 3N cartesian dimensions; setting to False.\n"
     ]
    },
    {
     "data": {
      "text/plain": [
       "  message: Optimization terminated successfully.\n",
       "  success: True\n",
       "   status: 0\n",
       "      fun: -108.16672411685238\n",
       "        x: [ 6.235e-01  2.804e-02]\n",
       "      nit: 7\n",
       "      jac: [ 1.225e-07  3.413e-07]\n",
       " hess_inv: [[ 1.839e-03 -9.147e-05]\n",
       "            [-9.147e-05  3.404e-04]]\n",
       "     nfev: 13\n",
       "     njev: 13"
      ]
     },
     "execution_count": 9,
     "metadata": {},
     "output_type": "execute_result"
    }
   ],
   "source": [
    "from potentials import *\n",
    "from optimizers import *\n",
    "\n",
    "from scipy.optimize import minimize\n",
    "import numpy as np\n",
    "\n",
    "myabc = CurvatureAdaptiveABC(StandardMullerBrown2D())\n",
    "\n",
    "options = {'gtol':1e-5}\n",
    "\n",
    "minimize(fun=myabc.compute_biased_potential, x0=(0,0), \n",
    "         jac=lambda x: -myabc.compute_biased_force(x), \n",
    "         method=\"BFGS\", options=options)"
   ]
  },
  {
   "cell_type": "code",
   "execution_count": 10,
   "id": "585afeb4",
   "metadata": {},
   "outputs": [
    {
     "name": "stdout",
     "output_type": "stream",
     "text": [
      "F: [60.37814423 93.59093663]\n",
      "G: [-60.37814423 -93.59093663]\n"
     ]
    }
   ],
   "source": [
    "def compare(x):\n",
    "    print(\"F:\", myabc.compute_biased_force(x))\n",
    "    print(\"G:\", myabc.potential.gradient(x))\n",
    "\n",
    "compare([0.5,0])"
   ]
  }
 ],
 "metadata": {
  "kernelspec": {
   "display_name": "abc_venv",
   "language": "python",
   "name": "python3"
  },
  "language_info": {
   "codemirror_mode": {
    "name": "ipython",
    "version": 3
   },
   "file_extension": ".py",
   "mimetype": "text/x-python",
   "name": "python",
   "nbconvert_exporter": "python",
   "pygments_lexer": "ipython3",
   "version": "3.10.12"
  }
 },
 "nbformat": 4,
 "nbformat_minor": 5
}
